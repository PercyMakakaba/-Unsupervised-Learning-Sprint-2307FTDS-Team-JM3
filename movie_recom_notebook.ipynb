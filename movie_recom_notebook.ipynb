{
 "cells": [
  {
   "cell_type": "markdown",
   "metadata": {},
   "source": [
    "## EA movie recommendation predict"
   ]
  },
  {
   "cell_type": "markdown",
   "metadata": {},
   "source": [
    "In today’s technology driven world, recommender systems are socially and\n",
    "economically critical for ensuring that individuals can make appropriate choices\n",
    "surrounding the content they engage with on a daily basis. \n",
    " \n",
    "One application where this is especially true surrounds movie content recommendations; where intelligent\n",
    "algorithms can help viewers find great titles from tens of thousands of options.\n",
    "\n",
    "Recommender Systems are a type of information filtering system as they improve the quality of search results and provides items that are more relevant to the search item or are related to the search history of the user.\n",
    "\n",
    "Almost every major tech company has applied recommender systems in some form: Amazon uses it to suggest products to customers, YouTube uses it to decide which video to play next on autoplay and Facebook uses it to recommend pages to like and people to follow. Furthermore, companies like Netflix and Spotify depend on the effectiveness of their recommendation engines for the success of their business.\n",
    "\n"
   ]
  },
  {
   "cell_type": "markdown",
   "metadata": {},
   "source": [
    "![gif](https://www.dropbox.com/scl/fi/uwat4bbydmqff5gcuynf8/palesagif.jpg?rlkey=i6knwbd41zwftc41eaa7iokhk&dl=1)"
   ]
  },
  {
   "cell_type": "markdown",
   "metadata": {},
   "source": [
    "<a id=\"cont\"></a>\n",
    "\n",
    "## Table of Contents\n",
    "\n",
    "<a href=#one>1. Importing Packages</a>\n",
    "\n",
    "<a href=#two>2. Loading Data</a>\n",
    "\n",
    "<a href=#three>3. Exploratory Data Analysis (EDA)</a>\n",
    "\n",
    "<a href=#four>4. Data Engineering</a>\n",
    "\n",
    "<a href=#five>5. Modeling</a>\n",
    "\n",
    "<a href=#six>6. Model Performance</a>\n",
    "\n",
    "<a href=#seven>7. Model Explanations</a>"
   ]
  },
  {
   "cell_type": "markdown",
   "metadata": {},
   "source": [
    " <a id=\"one\"></a>\n",
    "## 1. Importing Packages\n",
    "<a href=#cont>Back to Table of Contents</a>\n",
    "\n",
    "---\n",
    "    \n",
    "| ⚡ Description: Importing Packages ⚡ |\n",
    "| :--------------------------- |\n",
    "| In this section you are required to import, and briefly discuss, the libraries that will be used throughout your analysis and modelling. |\n",
    "\n",
    "---"
   ]
  },
  {
   "cell_type": "code",
   "execution_count": 11,
   "metadata": {},
   "outputs": [
    {
     "name": "stdout",
     "output_type": "stream",
     "text": [
      "Requirement already satisfied: wordcloud in c:\\users\\percy\\anaconda3\\lib\\site-packages (1.9.2)\n",
      "Requirement already satisfied: numpy>=1.6.1 in c:\\users\\percy\\anaconda3\\lib\\site-packages (from wordcloud) (1.24.3)\n",
      "Requirement already satisfied: pillow in c:\\users\\percy\\anaconda3\\lib\\site-packages (from wordcloud) (9.4.0)\n",
      "Requirement already satisfied: matplotlib in c:\\users\\percy\\anaconda3\\lib\\site-packages (from wordcloud) (3.7.1)\n",
      "Requirement already satisfied: contourpy>=1.0.1 in c:\\users\\percy\\anaconda3\\lib\\site-packages (from matplotlib->wordcloud) (1.0.5)\n",
      "Requirement already satisfied: cycler>=0.10 in c:\\users\\percy\\anaconda3\\lib\\site-packages (from matplotlib->wordcloud) (0.11.0)\n",
      "Requirement already satisfied: fonttools>=4.22.0 in c:\\users\\percy\\anaconda3\\lib\\site-packages (from matplotlib->wordcloud) (4.25.0)\n",
      "Requirement already satisfied: kiwisolver>=1.0.1 in c:\\users\\percy\\anaconda3\\lib\\site-packages (from matplotlib->wordcloud) (1.4.4)\n",
      "Requirement already satisfied: packaging>=20.0 in c:\\users\\percy\\anaconda3\\lib\\site-packages (from matplotlib->wordcloud) (23.0)\n",
      "Requirement already satisfied: pyparsing>=2.3.1 in c:\\users\\percy\\anaconda3\\lib\\site-packages (from matplotlib->wordcloud) (3.0.9)\n",
      "Requirement already satisfied: python-dateutil>=2.7 in c:\\users\\percy\\anaconda3\\lib\\site-packages (from matplotlib->wordcloud) (2.8.2)\n",
      "Requirement already satisfied: six>=1.5 in c:\\users\\percy\\anaconda3\\lib\\site-packages (from python-dateutil>=2.7->matplotlib->wordcloud) (1.16.0)\n",
      "Requirement already satisfied: scikit-surprise in c:\\users\\percy\\anaconda3\\lib\\site-packages (1.1.3)\n",
      "Requirement already satisfied: joblib>=1.0.0 in c:\\users\\percy\\anaconda3\\lib\\site-packages (from scikit-surprise) (1.2.0)\n",
      "Requirement already satisfied: numpy>=1.17.3 in c:\\users\\percy\\anaconda3\\lib\\site-packages (from scikit-surprise) (1.24.3)\n",
      "Requirement already satisfied: scipy>=1.3.2 in c:\\users\\percy\\anaconda3\\lib\\site-packages (from scikit-surprise) (1.10.1)\n"
     ]
    }
   ],
   "source": [
    "# Install packages here\n",
    "# Packages for data processing\n",
    "import numpy as np\n",
    "import pandas as pd\n",
    "import datetime\n",
    "from sklearn import preprocessing\n",
    "from sklearn.datasets import make_blobs\n",
    "from sklearn.preprocessing import StandardScaler\n",
    "from sklearn.feature_extraction.text import TfidfVectorizer\n",
    "from sklearn.metrics.pairwise import cosine_similarity\n",
    "import re\n",
    "from scipy.sparse import csr_matrix\n",
    "import scipy as sp\n",
    "import time\n",
    "import ast\n",
    "\n",
    "# Packages for visualization\n",
    "import matplotlib.pyplot as plt\n",
    "import seaborn as sns\n",
    "sns.set(rc={\"figure.figsize\":(15, 8)})\n",
    "%matplotlib inline\n",
    "from io import BytesIO\n",
    "from PIL import Image\n",
    "\n",
    "\n",
    "#Wordcloud\n",
    "from PIL import Image\n",
    "!pip install wordcloud\n",
    "from wordcloud import WordCloud, STOPWORDS, ImageColorGenerator\n",
    "\n",
    "# Packages for modeling\n",
    "!pip install scikit-surprise\n",
    "from surprise import Reader\n",
    "from surprise import Dataset\n",
    "from surprise import KNNWithMeans\n",
    "from surprise import KNNBasic\n",
    "from surprise.model_selection import train_test_split\n",
    "from surprise.model_selection import cross_validate\n",
    "from surprise.model_selection import GridSearchCV\n",
    "from surprise.prediction_algorithms import KNNBaseline, SVDpp, BaselineOnly, KNNWithMeans, CoClustering, SVD\n",
    "from surprise import SVDpp\n",
    "from surprise import NMF\n",
    "from surprise import SlopeOne\n",
    "from surprise import CoClustering\n",
    "from surprise import accuracy\n",
    "import heapq\n",
    "from sklearn.feature_extraction.text import CountVectorizer\n",
    "from sklearn.metrics.pairwise import cosine_similarity\n",
    "import requests\n",
    "import random\n",
    "\n",
    "# Packages for model evaluation\n",
    "from sklearn.metrics import mean_squared_error\n",
    "from sklearn.metrics import mean_absolute_error\n",
    "import time\n",
    "\n",
    "# Package to suppress warnings\n",
    "import warnings\n",
    "warnings.filterwarnings(\"ignore\")\n",
    "\n",
    "# Packages for saving models\n",
    "import pickle"
   ]
  },
  {
   "cell_type": "markdown",
   "metadata": {},
   "source": [
    "<a id=\"two\"></a>\n",
    "## 2. Loading the Data\n",
    "<a class=\"anchor\" id=\"1.1\"></a>\n",
    "<a href=#cont>Back to Table of Contents</a>\n",
    "\n",
    "---\n",
    "    \n",
    "| ⚡ Description: Loading the data ⚡ |\n",
    "| :--------------------------- |\n",
    "| In this section you are required to load the data from the `df_train` file into a DataFrame. |\n",
    "\n",
    "---"
   ]
  },
  {
   "cell_type": "code",
   "execution_count": 52,
   "metadata": {},
   "outputs": [],
   "source": [
    "train = pd.read_csv('train.csv') #loading training data"
   ]
  },
  {
   "cell_type": "code",
   "execution_count": 53,
   "metadata": {},
   "outputs": [],
   "source": [
    "test = pd.read_csv('test.csv') #loading test data"
   ]
  },
  {
   "cell_type": "code",
   "execution_count": 54,
   "metadata": {},
   "outputs": [],
   "source": [
    "movies = pd.read_csv('movies.csv')"
   ]
  },
  {
   "cell_type": "code",
   "execution_count": 55,
   "metadata": {},
   "outputs": [],
   "source": [
    "genome_scores = pd.read_csv('genome_scores.csv') #loading training data"
   ]
  },
  {
   "cell_type": "code",
   "execution_count": 56,
   "metadata": {},
   "outputs": [],
   "source": [
    "imdb_data = pd.read_csv('imdb_data.csv') #loading genome scores data"
   ]
  },
  {
   "cell_type": "code",
   "execution_count": 57,
   "metadata": {},
   "outputs": [],
   "source": [
    "genome_tags = pd.read_csv('genome_tags.csv') #loading genome tags data"
   ]
  },
  {
   "cell_type": "code",
   "execution_count": 58,
   "metadata": {},
   "outputs": [],
   "source": [
    "links = pd.read_csv('links.csv') #loading links data"
   ]
  },
  {
   "cell_type": "code",
   "execution_count": 59,
   "metadata": {},
   "outputs": [],
   "source": [
    "tags = pd.read_csv('tags.csv') #loading tags data"
   ]
  },
  {
   "cell_type": "markdown",
   "metadata": {},
   "source": [
    "<a id=\"three\"></a>\n",
    "## 3. Exploratory Data Analysis (EDA)\n",
    "<a class=\"anchor\" id=\"1.1\"></a>\n",
    "<a href=#cont>Back to Table of Contents</a>\n",
    "\n",
    "---\n",
    "    \n",
    "| ⚡ Description: Exploratory data analysis ⚡ |\n",
    "| :--------------------------- |\n",
    "| In this section, you are required to perform an in-depth analysis of all the variables in the DataFrame. |\n",
    "\n",
    "---\n"
   ]
  },
  {
   "cell_type": "code",
   "execution_count": 60,
   "metadata": {},
   "outputs": [],
   "source": [
    "# defining a function that will inspect each DataFrame\n",
    "\n",
    "def df_inspect(df):\n",
    "    print(\"Dataframe Info:\")\n",
    "    print(df.info())\n",
    "    print(\"\\n\")\n",
    "    print(\"Columns with Null Values:\")\n",
    "    print(df.isnull().sum())"
   ]
  },
  {
   "cell_type": "code",
   "execution_count": 61,
   "metadata": {},
   "outputs": [
    {
     "data": {
      "text/html": [
       "<div>\n",
       "<style scoped>\n",
       "    .dataframe tbody tr th:only-of-type {\n",
       "        vertical-align: middle;\n",
       "    }\n",
       "\n",
       "    .dataframe tbody tr th {\n",
       "        vertical-align: top;\n",
       "    }\n",
       "\n",
       "    .dataframe thead th {\n",
       "        text-align: right;\n",
       "    }\n",
       "</style>\n",
       "<table border=\"1\" class=\"dataframe\">\n",
       "  <thead>\n",
       "    <tr style=\"text-align: right;\">\n",
       "      <th></th>\n",
       "      <th>userId</th>\n",
       "      <th>movieId</th>\n",
       "      <th>rating</th>\n",
       "      <th>timestamp</th>\n",
       "    </tr>\n",
       "  </thead>\n",
       "  <tbody>\n",
       "    <tr>\n",
       "      <th>0</th>\n",
       "      <td>5163</td>\n",
       "      <td>57669</td>\n",
       "      <td>4.0</td>\n",
       "      <td>1518349992</td>\n",
       "    </tr>\n",
       "    <tr>\n",
       "      <th>1</th>\n",
       "      <td>106343</td>\n",
       "      <td>5</td>\n",
       "      <td>4.5</td>\n",
       "      <td>1206238739</td>\n",
       "    </tr>\n",
       "    <tr>\n",
       "      <th>2</th>\n",
       "      <td>146790</td>\n",
       "      <td>5459</td>\n",
       "      <td>5.0</td>\n",
       "      <td>1076215539</td>\n",
       "    </tr>\n",
       "    <tr>\n",
       "      <th>3</th>\n",
       "      <td>106362</td>\n",
       "      <td>32296</td>\n",
       "      <td>2.0</td>\n",
       "      <td>1423042565</td>\n",
       "    </tr>\n",
       "    <tr>\n",
       "      <th>4</th>\n",
       "      <td>9041</td>\n",
       "      <td>366</td>\n",
       "      <td>3.0</td>\n",
       "      <td>833375837</td>\n",
       "    </tr>\n",
       "  </tbody>\n",
       "</table>\n",
       "</div>"
      ],
      "text/plain": [
       "   userId  movieId  rating   timestamp\n",
       "0    5163    57669     4.0  1518349992\n",
       "1  106343        5     4.5  1206238739\n",
       "2  146790     5459     5.0  1076215539\n",
       "3  106362    32296     2.0  1423042565\n",
       "4    9041      366     3.0   833375837"
      ]
     },
     "execution_count": 61,
     "metadata": {},
     "output_type": "execute_result"
    }
   ],
   "source": [
    "train.head() #revealing training data"
   ]
  },
  {
   "cell_type": "code",
   "execution_count": 62,
   "metadata": {},
   "outputs": [
    {
     "data": {
      "text/html": [
       "<div>\n",
       "<style scoped>\n",
       "    .dataframe tbody tr th:only-of-type {\n",
       "        vertical-align: middle;\n",
       "    }\n",
       "\n",
       "    .dataframe tbody tr th {\n",
       "        vertical-align: top;\n",
       "    }\n",
       "\n",
       "    .dataframe thead th {\n",
       "        text-align: right;\n",
       "    }\n",
       "</style>\n",
       "<table border=\"1\" class=\"dataframe\">\n",
       "  <thead>\n",
       "    <tr style=\"text-align: right;\">\n",
       "      <th></th>\n",
       "      <th>userId</th>\n",
       "      <th>movieId</th>\n",
       "    </tr>\n",
       "  </thead>\n",
       "  <tbody>\n",
       "    <tr>\n",
       "      <th>0</th>\n",
       "      <td>1</td>\n",
       "      <td>2011</td>\n",
       "    </tr>\n",
       "    <tr>\n",
       "      <th>1</th>\n",
       "      <td>1</td>\n",
       "      <td>4144</td>\n",
       "    </tr>\n",
       "    <tr>\n",
       "      <th>2</th>\n",
       "      <td>1</td>\n",
       "      <td>5767</td>\n",
       "    </tr>\n",
       "    <tr>\n",
       "      <th>3</th>\n",
       "      <td>1</td>\n",
       "      <td>6711</td>\n",
       "    </tr>\n",
       "    <tr>\n",
       "      <th>4</th>\n",
       "      <td>1</td>\n",
       "      <td>7318</td>\n",
       "    </tr>\n",
       "  </tbody>\n",
       "</table>\n",
       "</div>"
      ],
      "text/plain": [
       "   userId  movieId\n",
       "0       1     2011\n",
       "1       1     4144\n",
       "2       1     5767\n",
       "3       1     6711\n",
       "4       1     7318"
      ]
     },
     "execution_count": 62,
     "metadata": {},
     "output_type": "execute_result"
    }
   ],
   "source": [
    "test.head()"
   ]
  },
  {
   "cell_type": "code",
   "execution_count": 63,
   "metadata": {},
   "outputs": [
    {
     "data": {
      "text/html": [
       "<div>\n",
       "<style scoped>\n",
       "    .dataframe tbody tr th:only-of-type {\n",
       "        vertical-align: middle;\n",
       "    }\n",
       "\n",
       "    .dataframe tbody tr th {\n",
       "        vertical-align: top;\n",
       "    }\n",
       "\n",
       "    .dataframe thead th {\n",
       "        text-align: right;\n",
       "    }\n",
       "</style>\n",
       "<table border=\"1\" class=\"dataframe\">\n",
       "  <thead>\n",
       "    <tr style=\"text-align: right;\">\n",
       "      <th></th>\n",
       "      <th>movieId</th>\n",
       "      <th>title</th>\n",
       "      <th>genres</th>\n",
       "    </tr>\n",
       "  </thead>\n",
       "  <tbody>\n",
       "    <tr>\n",
       "      <th>0</th>\n",
       "      <td>1</td>\n",
       "      <td>Toy Story (1995)</td>\n",
       "      <td>Adventure|Animation|Children|Comedy|Fantasy</td>\n",
       "    </tr>\n",
       "    <tr>\n",
       "      <th>1</th>\n",
       "      <td>2</td>\n",
       "      <td>Jumanji (1995)</td>\n",
       "      <td>Adventure|Children|Fantasy</td>\n",
       "    </tr>\n",
       "    <tr>\n",
       "      <th>2</th>\n",
       "      <td>3</td>\n",
       "      <td>Grumpier Old Men (1995)</td>\n",
       "      <td>Comedy|Romance</td>\n",
       "    </tr>\n",
       "    <tr>\n",
       "      <th>3</th>\n",
       "      <td>4</td>\n",
       "      <td>Waiting to Exhale (1995)</td>\n",
       "      <td>Comedy|Drama|Romance</td>\n",
       "    </tr>\n",
       "    <tr>\n",
       "      <th>4</th>\n",
       "      <td>5</td>\n",
       "      <td>Father of the Bride Part II (1995)</td>\n",
       "      <td>Comedy</td>\n",
       "    </tr>\n",
       "    <tr>\n",
       "      <th>...</th>\n",
       "      <td>...</td>\n",
       "      <td>...</td>\n",
       "      <td>...</td>\n",
       "    </tr>\n",
       "    <tr>\n",
       "      <th>62418</th>\n",
       "      <td>209157</td>\n",
       "      <td>We (2018)</td>\n",
       "      <td>Drama</td>\n",
       "    </tr>\n",
       "    <tr>\n",
       "      <th>62419</th>\n",
       "      <td>209159</td>\n",
       "      <td>Window of the Soul (2001)</td>\n",
       "      <td>Documentary</td>\n",
       "    </tr>\n",
       "    <tr>\n",
       "      <th>62420</th>\n",
       "      <td>209163</td>\n",
       "      <td>Bad Poems (2018)</td>\n",
       "      <td>Comedy|Drama</td>\n",
       "    </tr>\n",
       "    <tr>\n",
       "      <th>62421</th>\n",
       "      <td>209169</td>\n",
       "      <td>A Girl Thing (2001)</td>\n",
       "      <td>(no genres listed)</td>\n",
       "    </tr>\n",
       "    <tr>\n",
       "      <th>62422</th>\n",
       "      <td>209171</td>\n",
       "      <td>Women of Devil's Island (1962)</td>\n",
       "      <td>Action|Adventure|Drama</td>\n",
       "    </tr>\n",
       "  </tbody>\n",
       "</table>\n",
       "<p>62423 rows × 3 columns</p>\n",
       "</div>"
      ],
      "text/plain": [
       "       movieId                               title  \\\n",
       "0            1                    Toy Story (1995)   \n",
       "1            2                      Jumanji (1995)   \n",
       "2            3             Grumpier Old Men (1995)   \n",
       "3            4            Waiting to Exhale (1995)   \n",
       "4            5  Father of the Bride Part II (1995)   \n",
       "...        ...                                 ...   \n",
       "62418   209157                           We (2018)   \n",
       "62419   209159           Window of the Soul (2001)   \n",
       "62420   209163                    Bad Poems (2018)   \n",
       "62421   209169                 A Girl Thing (2001)   \n",
       "62422   209171      Women of Devil's Island (1962)   \n",
       "\n",
       "                                            genres  \n",
       "0      Adventure|Animation|Children|Comedy|Fantasy  \n",
       "1                       Adventure|Children|Fantasy  \n",
       "2                                   Comedy|Romance  \n",
       "3                             Comedy|Drama|Romance  \n",
       "4                                           Comedy  \n",
       "...                                            ...  \n",
       "62418                                        Drama  \n",
       "62419                                  Documentary  \n",
       "62420                                 Comedy|Drama  \n",
       "62421                           (no genres listed)  \n",
       "62422                       Action|Adventure|Drama  \n",
       "\n",
       "[62423 rows x 3 columns]"
      ]
     },
     "execution_count": 63,
     "metadata": {},
     "output_type": "execute_result"
    }
   ],
   "source": [
    "movies"
   ]
  },
  {
   "cell_type": "code",
   "execution_count": 65,
   "metadata": {},
   "outputs": [
    {
     "name": "stdout",
     "output_type": "stream",
     "text": [
      "Dataframe Info:\n",
      "<class 'pandas.core.frame.DataFrame'>\n",
      "RangeIndex: 62423 entries, 0 to 62422\n",
      "Data columns (total 3 columns):\n",
      " #   Column   Non-Null Count  Dtype \n",
      "---  ------   --------------  ----- \n",
      " 0   movieId  62423 non-null  int64 \n",
      " 1   title    62423 non-null  object\n",
      " 2   genres   62423 non-null  object\n",
      "dtypes: int64(1), object(2)\n",
      "memory usage: 1.4+ MB\n",
      "None\n",
      "\n",
      "\n",
      "Columns with Null Values:\n",
      "movieId    0\n",
      "title      0\n",
      "genres     0\n",
      "dtype: int64\n"
     ]
    }
   ],
   "source": [
    "df_inspect(movies)"
   ]
  },
  {
   "cell_type": "code",
   "execution_count": 66,
   "metadata": {},
   "outputs": [
    {
     "data": {
      "text/html": [
       "<div>\n",
       "<style scoped>\n",
       "    .dataframe tbody tr th:only-of-type {\n",
       "        vertical-align: middle;\n",
       "    }\n",
       "\n",
       "    .dataframe tbody tr th {\n",
       "        vertical-align: top;\n",
       "    }\n",
       "\n",
       "    .dataframe thead th {\n",
       "        text-align: right;\n",
       "    }\n",
       "</style>\n",
       "<table border=\"1\" class=\"dataframe\">\n",
       "  <thead>\n",
       "    <tr style=\"text-align: right;\">\n",
       "      <th></th>\n",
       "      <th>movieId</th>\n",
       "      <th>title_cast</th>\n",
       "      <th>director</th>\n",
       "      <th>runtime</th>\n",
       "      <th>budget</th>\n",
       "      <th>plot_keywords</th>\n",
       "    </tr>\n",
       "  </thead>\n",
       "  <tbody>\n",
       "    <tr>\n",
       "      <th>0</th>\n",
       "      <td>1</td>\n",
       "      <td>Tom Hanks|Tim Allen|Don Rickles|Jim Varney|Wal...</td>\n",
       "      <td>John Lasseter</td>\n",
       "      <td>81.0</td>\n",
       "      <td>$30,000,000</td>\n",
       "      <td>toy|rivalry|cowboy|cgi animation</td>\n",
       "    </tr>\n",
       "    <tr>\n",
       "      <th>1</th>\n",
       "      <td>2</td>\n",
       "      <td>Robin Williams|Jonathan Hyde|Kirsten Dunst|Bra...</td>\n",
       "      <td>Jonathan Hensleigh</td>\n",
       "      <td>104.0</td>\n",
       "      <td>$65,000,000</td>\n",
       "      <td>board game|adventurer|fight|game</td>\n",
       "    </tr>\n",
       "    <tr>\n",
       "      <th>2</th>\n",
       "      <td>3</td>\n",
       "      <td>Walter Matthau|Jack Lemmon|Sophia Loren|Ann-Ma...</td>\n",
       "      <td>Mark Steven Johnson</td>\n",
       "      <td>101.0</td>\n",
       "      <td>$25,000,000</td>\n",
       "      <td>boat|lake|neighbor|rivalry</td>\n",
       "    </tr>\n",
       "    <tr>\n",
       "      <th>3</th>\n",
       "      <td>4</td>\n",
       "      <td>Whitney Houston|Angela Bassett|Loretta Devine|...</td>\n",
       "      <td>Terry McMillan</td>\n",
       "      <td>124.0</td>\n",
       "      <td>$16,000,000</td>\n",
       "      <td>black american|husband wife relationship|betra...</td>\n",
       "    </tr>\n",
       "    <tr>\n",
       "      <th>4</th>\n",
       "      <td>5</td>\n",
       "      <td>Steve Martin|Diane Keaton|Martin Short|Kimberl...</td>\n",
       "      <td>Albert Hackett</td>\n",
       "      <td>106.0</td>\n",
       "      <td>$30,000,000</td>\n",
       "      <td>fatherhood|doberman|dog|mansion</td>\n",
       "    </tr>\n",
       "    <tr>\n",
       "      <th>...</th>\n",
       "      <td>...</td>\n",
       "      <td>...</td>\n",
       "      <td>...</td>\n",
       "      <td>...</td>\n",
       "      <td>...</td>\n",
       "      <td>...</td>\n",
       "    </tr>\n",
       "    <tr>\n",
       "      <th>27273</th>\n",
       "      <td>131254</td>\n",
       "      <td>Franz Dinda|Florian Lukas|Axel Stein|Kailas Ma...</td>\n",
       "      <td>Carsten Funke</td>\n",
       "      <td>85.0</td>\n",
       "      <td>NaN</td>\n",
       "      <td>man wrapped in a towel|man wears a thong|male ...</td>\n",
       "    </tr>\n",
       "    <tr>\n",
       "      <th>27274</th>\n",
       "      <td>131256</td>\n",
       "      <td>Rick Kavanian|Axel Stein|Eva Habermann|Christo...</td>\n",
       "      <td>Matthias Dinter</td>\n",
       "      <td>83.0</td>\n",
       "      <td>DEM5,800,000</td>\n",
       "      <td>ski|ski resort|ampersand in title|drink in title</td>\n",
       "    </tr>\n",
       "    <tr>\n",
       "      <th>27275</th>\n",
       "      <td>131258</td>\n",
       "      <td>Nam-gil Kim|Ye-jin Son|Hae-Jin Yoo|Kyeong-yeon...</td>\n",
       "      <td>Seong-il Cheon</td>\n",
       "      <td>130.0</td>\n",
       "      <td>NaN</td>\n",
       "      <td>pirate|sword fight|korea|bandit</td>\n",
       "    </tr>\n",
       "    <tr>\n",
       "      <th>27276</th>\n",
       "      <td>131260</td>\n",
       "      <td>Martti Suosalo|Ilkka Koivula|Vexi Salmi|Riitta...</td>\n",
       "      <td>Timo Koivusalo</td>\n",
       "      <td>102.0</td>\n",
       "      <td>NaN</td>\n",
       "      <td>friend|friendship|television show|restaurant</td>\n",
       "    </tr>\n",
       "    <tr>\n",
       "      <th>27277</th>\n",
       "      <td>131262</td>\n",
       "      <td>Sophie Lane Curtis|Kelly Reilly|Graham Phillip...</td>\n",
       "      <td>Hilary Brougher</td>\n",
       "      <td>96.0</td>\n",
       "      <td>NaN</td>\n",
       "      <td>hex|witch|virgin|blood</td>\n",
       "    </tr>\n",
       "  </tbody>\n",
       "</table>\n",
       "<p>27278 rows × 6 columns</p>\n",
       "</div>"
      ],
      "text/plain": [
       "       movieId                                         title_cast  \\\n",
       "0            1  Tom Hanks|Tim Allen|Don Rickles|Jim Varney|Wal...   \n",
       "1            2  Robin Williams|Jonathan Hyde|Kirsten Dunst|Bra...   \n",
       "2            3  Walter Matthau|Jack Lemmon|Sophia Loren|Ann-Ma...   \n",
       "3            4  Whitney Houston|Angela Bassett|Loretta Devine|...   \n",
       "4            5  Steve Martin|Diane Keaton|Martin Short|Kimberl...   \n",
       "...        ...                                                ...   \n",
       "27273   131254  Franz Dinda|Florian Lukas|Axel Stein|Kailas Ma...   \n",
       "27274   131256  Rick Kavanian|Axel Stein|Eva Habermann|Christo...   \n",
       "27275   131258  Nam-gil Kim|Ye-jin Son|Hae-Jin Yoo|Kyeong-yeon...   \n",
       "27276   131260  Martti Suosalo|Ilkka Koivula|Vexi Salmi|Riitta...   \n",
       "27277   131262  Sophie Lane Curtis|Kelly Reilly|Graham Phillip...   \n",
       "\n",
       "                  director  runtime        budget  \\\n",
       "0            John Lasseter     81.0   $30,000,000   \n",
       "1       Jonathan Hensleigh    104.0   $65,000,000   \n",
       "2      Mark Steven Johnson    101.0   $25,000,000   \n",
       "3           Terry McMillan    124.0   $16,000,000   \n",
       "4           Albert Hackett    106.0   $30,000,000   \n",
       "...                    ...      ...           ...   \n",
       "27273        Carsten Funke     85.0           NaN   \n",
       "27274      Matthias Dinter     83.0  DEM5,800,000   \n",
       "27275       Seong-il Cheon    130.0           NaN   \n",
       "27276       Timo Koivusalo    102.0           NaN   \n",
       "27277      Hilary Brougher     96.0           NaN   \n",
       "\n",
       "                                           plot_keywords  \n",
       "0                       toy|rivalry|cowboy|cgi animation  \n",
       "1                       board game|adventurer|fight|game  \n",
       "2                             boat|lake|neighbor|rivalry  \n",
       "3      black american|husband wife relationship|betra...  \n",
       "4                        fatherhood|doberman|dog|mansion  \n",
       "...                                                  ...  \n",
       "27273  man wrapped in a towel|man wears a thong|male ...  \n",
       "27274   ski|ski resort|ampersand in title|drink in title  \n",
       "27275                    pirate|sword fight|korea|bandit  \n",
       "27276       friend|friendship|television show|restaurant  \n",
       "27277                             hex|witch|virgin|blood  \n",
       "\n",
       "[27278 rows x 6 columns]"
      ]
     },
     "execution_count": 66,
     "metadata": {},
     "output_type": "execute_result"
    }
   ],
   "source": [
    "imdb_data"
   ]
  },
  {
   "cell_type": "code",
   "execution_count": 67,
   "metadata": {},
   "outputs": [
    {
     "name": "stdout",
     "output_type": "stream",
     "text": [
      "Dataframe Info:\n",
      "<class 'pandas.core.frame.DataFrame'>\n",
      "RangeIndex: 27278 entries, 0 to 27277\n",
      "Data columns (total 6 columns):\n",
      " #   Column         Non-Null Count  Dtype  \n",
      "---  ------         --------------  -----  \n",
      " 0   movieId        27278 non-null  int64  \n",
      " 1   title_cast     17210 non-null  object \n",
      " 2   director       17404 non-null  object \n",
      " 3   runtime        15189 non-null  float64\n",
      " 4   budget         7906 non-null   object \n",
      " 5   plot_keywords  16200 non-null  object \n",
      "dtypes: float64(1), int64(1), object(4)\n",
      "memory usage: 1.2+ MB\n",
      "None\n",
      "\n",
      "\n",
      "Columns with Null Values:\n",
      "movieId              0\n",
      "title_cast       10068\n",
      "director          9874\n",
      "runtime          12089\n",
      "budget           19372\n",
      "plot_keywords    11078\n",
      "dtype: int64\n"
     ]
    }
   ],
   "source": [
    "df_inspect(imdb_data)"
   ]
  },
  {
   "cell_type": "code",
   "execution_count": 68,
   "metadata": {},
   "outputs": [
    {
     "data": {
      "text/html": [
       "<div>\n",
       "<style scoped>\n",
       "    .dataframe tbody tr th:only-of-type {\n",
       "        vertical-align: middle;\n",
       "    }\n",
       "\n",
       "    .dataframe tbody tr th {\n",
       "        vertical-align: top;\n",
       "    }\n",
       "\n",
       "    .dataframe thead th {\n",
       "        text-align: right;\n",
       "    }\n",
       "</style>\n",
       "<table border=\"1\" class=\"dataframe\">\n",
       "  <thead>\n",
       "    <tr style=\"text-align: right;\">\n",
       "      <th></th>\n",
       "      <th>tagId</th>\n",
       "      <th>tag</th>\n",
       "    </tr>\n",
       "  </thead>\n",
       "  <tbody>\n",
       "    <tr>\n",
       "      <th>0</th>\n",
       "      <td>1</td>\n",
       "      <td>007</td>\n",
       "    </tr>\n",
       "    <tr>\n",
       "      <th>1</th>\n",
       "      <td>2</td>\n",
       "      <td>007 (series)</td>\n",
       "    </tr>\n",
       "    <tr>\n",
       "      <th>2</th>\n",
       "      <td>3</td>\n",
       "      <td>18th century</td>\n",
       "    </tr>\n",
       "    <tr>\n",
       "      <th>3</th>\n",
       "      <td>4</td>\n",
       "      <td>1920s</td>\n",
       "    </tr>\n",
       "    <tr>\n",
       "      <th>4</th>\n",
       "      <td>5</td>\n",
       "      <td>1930s</td>\n",
       "    </tr>\n",
       "    <tr>\n",
       "      <th>...</th>\n",
       "      <td>...</td>\n",
       "      <td>...</td>\n",
       "    </tr>\n",
       "    <tr>\n",
       "      <th>1123</th>\n",
       "      <td>1124</td>\n",
       "      <td>writing</td>\n",
       "    </tr>\n",
       "    <tr>\n",
       "      <th>1124</th>\n",
       "      <td>1125</td>\n",
       "      <td>wuxia</td>\n",
       "    </tr>\n",
       "    <tr>\n",
       "      <th>1125</th>\n",
       "      <td>1126</td>\n",
       "      <td>wwii</td>\n",
       "    </tr>\n",
       "    <tr>\n",
       "      <th>1126</th>\n",
       "      <td>1127</td>\n",
       "      <td>zombie</td>\n",
       "    </tr>\n",
       "    <tr>\n",
       "      <th>1127</th>\n",
       "      <td>1128</td>\n",
       "      <td>zombies</td>\n",
       "    </tr>\n",
       "  </tbody>\n",
       "</table>\n",
       "<p>1128 rows × 2 columns</p>\n",
       "</div>"
      ],
      "text/plain": [
       "      tagId           tag\n",
       "0         1           007\n",
       "1         2  007 (series)\n",
       "2         3  18th century\n",
       "3         4         1920s\n",
       "4         5         1930s\n",
       "...     ...           ...\n",
       "1123   1124       writing\n",
       "1124   1125         wuxia\n",
       "1125   1126          wwii\n",
       "1126   1127        zombie\n",
       "1127   1128       zombies\n",
       "\n",
       "[1128 rows x 2 columns]"
      ]
     },
     "execution_count": 68,
     "metadata": {},
     "output_type": "execute_result"
    }
   ],
   "source": [
    "genome_tags"
   ]
  },
  {
   "cell_type": "code",
   "execution_count": 69,
   "metadata": {},
   "outputs": [
    {
     "name": "stdout",
     "output_type": "stream",
     "text": [
      "Dataframe Info:\n",
      "<class 'pandas.core.frame.DataFrame'>\n",
      "RangeIndex: 1128 entries, 0 to 1127\n",
      "Data columns (total 2 columns):\n",
      " #   Column  Non-Null Count  Dtype \n",
      "---  ------  --------------  ----- \n",
      " 0   tagId   1128 non-null   int64 \n",
      " 1   tag     1128 non-null   object\n",
      "dtypes: int64(1), object(1)\n",
      "memory usage: 17.8+ KB\n",
      "None\n",
      "\n",
      "\n",
      "Columns with Null Values:\n",
      "tagId    0\n",
      "tag      0\n",
      "dtype: int64\n"
     ]
    }
   ],
   "source": [
    "df_inspect(genome_tags)"
   ]
  },
  {
   "cell_type": "code",
   "execution_count": 70,
   "metadata": {},
   "outputs": [
    {
     "data": {
      "text/html": [
       "<div>\n",
       "<style scoped>\n",
       "    .dataframe tbody tr th:only-of-type {\n",
       "        vertical-align: middle;\n",
       "    }\n",
       "\n",
       "    .dataframe tbody tr th {\n",
       "        vertical-align: top;\n",
       "    }\n",
       "\n",
       "    .dataframe thead th {\n",
       "        text-align: right;\n",
       "    }\n",
       "</style>\n",
       "<table border=\"1\" class=\"dataframe\">\n",
       "  <thead>\n",
       "    <tr style=\"text-align: right;\">\n",
       "      <th></th>\n",
       "      <th>movieId</th>\n",
       "      <th>tagId</th>\n",
       "      <th>relevance</th>\n",
       "    </tr>\n",
       "  </thead>\n",
       "  <tbody>\n",
       "    <tr>\n",
       "      <th>0</th>\n",
       "      <td>1</td>\n",
       "      <td>1</td>\n",
       "      <td>0.02875</td>\n",
       "    </tr>\n",
       "    <tr>\n",
       "      <th>1</th>\n",
       "      <td>1</td>\n",
       "      <td>2</td>\n",
       "      <td>0.02375</td>\n",
       "    </tr>\n",
       "    <tr>\n",
       "      <th>2</th>\n",
       "      <td>1</td>\n",
       "      <td>3</td>\n",
       "      <td>0.06250</td>\n",
       "    </tr>\n",
       "    <tr>\n",
       "      <th>3</th>\n",
       "      <td>1</td>\n",
       "      <td>4</td>\n",
       "      <td>0.07575</td>\n",
       "    </tr>\n",
       "    <tr>\n",
       "      <th>4</th>\n",
       "      <td>1</td>\n",
       "      <td>5</td>\n",
       "      <td>0.14075</td>\n",
       "    </tr>\n",
       "    <tr>\n",
       "      <th>...</th>\n",
       "      <td>...</td>\n",
       "      <td>...</td>\n",
       "      <td>...</td>\n",
       "    </tr>\n",
       "    <tr>\n",
       "      <th>15584443</th>\n",
       "      <td>206499</td>\n",
       "      <td>1124</td>\n",
       "      <td>0.11000</td>\n",
       "    </tr>\n",
       "    <tr>\n",
       "      <th>15584444</th>\n",
       "      <td>206499</td>\n",
       "      <td>1125</td>\n",
       "      <td>0.04850</td>\n",
       "    </tr>\n",
       "    <tr>\n",
       "      <th>15584445</th>\n",
       "      <td>206499</td>\n",
       "      <td>1126</td>\n",
       "      <td>0.01325</td>\n",
       "    </tr>\n",
       "    <tr>\n",
       "      <th>15584446</th>\n",
       "      <td>206499</td>\n",
       "      <td>1127</td>\n",
       "      <td>0.14025</td>\n",
       "    </tr>\n",
       "    <tr>\n",
       "      <th>15584447</th>\n",
       "      <td>206499</td>\n",
       "      <td>1128</td>\n",
       "      <td>0.03350</td>\n",
       "    </tr>\n",
       "  </tbody>\n",
       "</table>\n",
       "<p>15584448 rows × 3 columns</p>\n",
       "</div>"
      ],
      "text/plain": [
       "          movieId  tagId  relevance\n",
       "0               1      1    0.02875\n",
       "1               1      2    0.02375\n",
       "2               1      3    0.06250\n",
       "3               1      4    0.07575\n",
       "4               1      5    0.14075\n",
       "...           ...    ...        ...\n",
       "15584443   206499   1124    0.11000\n",
       "15584444   206499   1125    0.04850\n",
       "15584445   206499   1126    0.01325\n",
       "15584446   206499   1127    0.14025\n",
       "15584447   206499   1128    0.03350\n",
       "\n",
       "[15584448 rows x 3 columns]"
      ]
     },
     "execution_count": 70,
     "metadata": {},
     "output_type": "execute_result"
    }
   ],
   "source": [
    "genome_scores"
   ]
  },
  {
   "cell_type": "code",
   "execution_count": 71,
   "metadata": {},
   "outputs": [
    {
     "name": "stdout",
     "output_type": "stream",
     "text": [
      "Dataframe Info:\n",
      "<class 'pandas.core.frame.DataFrame'>\n",
      "RangeIndex: 15584448 entries, 0 to 15584447\n",
      "Data columns (total 3 columns):\n",
      " #   Column     Dtype  \n",
      "---  ------     -----  \n",
      " 0   movieId    int64  \n",
      " 1   tagId      int64  \n",
      " 2   relevance  float64\n",
      "dtypes: float64(1), int64(2)\n",
      "memory usage: 356.7 MB\n",
      "None\n",
      "\n",
      "\n",
      "Columns with Null Values:\n",
      "movieId      0\n",
      "tagId        0\n",
      "relevance    0\n",
      "dtype: int64\n"
     ]
    }
   ],
   "source": [
    "df_inspect(genome_scores)"
   ]
  },
  {
   "cell_type": "code",
   "execution_count": 72,
   "metadata": {},
   "outputs": [
    {
     "data": {
      "text/html": [
       "<div>\n",
       "<style scoped>\n",
       "    .dataframe tbody tr th:only-of-type {\n",
       "        vertical-align: middle;\n",
       "    }\n",
       "\n",
       "    .dataframe tbody tr th {\n",
       "        vertical-align: top;\n",
       "    }\n",
       "\n",
       "    .dataframe thead th {\n",
       "        text-align: right;\n",
       "    }\n",
       "</style>\n",
       "<table border=\"1\" class=\"dataframe\">\n",
       "  <thead>\n",
       "    <tr style=\"text-align: right;\">\n",
       "      <th></th>\n",
       "      <th>movieId</th>\n",
       "      <th>imdbId</th>\n",
       "      <th>tmdbId</th>\n",
       "    </tr>\n",
       "  </thead>\n",
       "  <tbody>\n",
       "    <tr>\n",
       "      <th>0</th>\n",
       "      <td>1</td>\n",
       "      <td>114709</td>\n",
       "      <td>862.0</td>\n",
       "    </tr>\n",
       "    <tr>\n",
       "      <th>1</th>\n",
       "      <td>2</td>\n",
       "      <td>113497</td>\n",
       "      <td>8844.0</td>\n",
       "    </tr>\n",
       "    <tr>\n",
       "      <th>2</th>\n",
       "      <td>3</td>\n",
       "      <td>113228</td>\n",
       "      <td>15602.0</td>\n",
       "    </tr>\n",
       "    <tr>\n",
       "      <th>3</th>\n",
       "      <td>4</td>\n",
       "      <td>114885</td>\n",
       "      <td>31357.0</td>\n",
       "    </tr>\n",
       "    <tr>\n",
       "      <th>4</th>\n",
       "      <td>5</td>\n",
       "      <td>113041</td>\n",
       "      <td>11862.0</td>\n",
       "    </tr>\n",
       "    <tr>\n",
       "      <th>...</th>\n",
       "      <td>...</td>\n",
       "      <td>...</td>\n",
       "      <td>...</td>\n",
       "    </tr>\n",
       "    <tr>\n",
       "      <th>62418</th>\n",
       "      <td>209157</td>\n",
       "      <td>6671244</td>\n",
       "      <td>499546.0</td>\n",
       "    </tr>\n",
       "    <tr>\n",
       "      <th>62419</th>\n",
       "      <td>209159</td>\n",
       "      <td>297986</td>\n",
       "      <td>63407.0</td>\n",
       "    </tr>\n",
       "    <tr>\n",
       "      <th>62420</th>\n",
       "      <td>209163</td>\n",
       "      <td>6755366</td>\n",
       "      <td>553036.0</td>\n",
       "    </tr>\n",
       "    <tr>\n",
       "      <th>62421</th>\n",
       "      <td>209169</td>\n",
       "      <td>249603</td>\n",
       "      <td>162892.0</td>\n",
       "    </tr>\n",
       "    <tr>\n",
       "      <th>62422</th>\n",
       "      <td>209171</td>\n",
       "      <td>55323</td>\n",
       "      <td>79513.0</td>\n",
       "    </tr>\n",
       "  </tbody>\n",
       "</table>\n",
       "<p>62423 rows × 3 columns</p>\n",
       "</div>"
      ],
      "text/plain": [
       "       movieId   imdbId    tmdbId\n",
       "0            1   114709     862.0\n",
       "1            2   113497    8844.0\n",
       "2            3   113228   15602.0\n",
       "3            4   114885   31357.0\n",
       "4            5   113041   11862.0\n",
       "...        ...      ...       ...\n",
       "62418   209157  6671244  499546.0\n",
       "62419   209159   297986   63407.0\n",
       "62420   209163  6755366  553036.0\n",
       "62421   209169   249603  162892.0\n",
       "62422   209171    55323   79513.0\n",
       "\n",
       "[62423 rows x 3 columns]"
      ]
     },
     "execution_count": 72,
     "metadata": {},
     "output_type": "execute_result"
    }
   ],
   "source": [
    "links"
   ]
  },
  {
   "cell_type": "code",
   "execution_count": 73,
   "metadata": {},
   "outputs": [
    {
     "name": "stdout",
     "output_type": "stream",
     "text": [
      "Dataframe Info:\n",
      "<class 'pandas.core.frame.DataFrame'>\n",
      "RangeIndex: 62423 entries, 0 to 62422\n",
      "Data columns (total 3 columns):\n",
      " #   Column   Non-Null Count  Dtype  \n",
      "---  ------   --------------  -----  \n",
      " 0   movieId  62423 non-null  int64  \n",
      " 1   imdbId   62423 non-null  int64  \n",
      " 2   tmdbId   62316 non-null  float64\n",
      "dtypes: float64(1), int64(2)\n",
      "memory usage: 1.4 MB\n",
      "None\n",
      "\n",
      "\n",
      "Columns with Null Values:\n",
      "movieId      0\n",
      "imdbId       0\n",
      "tmdbId     107\n",
      "dtype: int64\n"
     ]
    }
   ],
   "source": [
    "df_inspect(links)"
   ]
  },
  {
   "cell_type": "markdown",
   "metadata": {},
   "source": [
    "df_links[''].mean"
   ]
  },
  {
   "cell_type": "code",
   "execution_count": 74,
   "metadata": {},
   "outputs": [
    {
     "data": {
      "text/html": [
       "<div>\n",
       "<style scoped>\n",
       "    .dataframe tbody tr th:only-of-type {\n",
       "        vertical-align: middle;\n",
       "    }\n",
       "\n",
       "    .dataframe tbody tr th {\n",
       "        vertical-align: top;\n",
       "    }\n",
       "\n",
       "    .dataframe thead th {\n",
       "        text-align: right;\n",
       "    }\n",
       "</style>\n",
       "<table border=\"1\" class=\"dataframe\">\n",
       "  <thead>\n",
       "    <tr style=\"text-align: right;\">\n",
       "      <th></th>\n",
       "      <th>userId</th>\n",
       "      <th>movieId</th>\n",
       "      <th>tag</th>\n",
       "      <th>timestamp</th>\n",
       "    </tr>\n",
       "  </thead>\n",
       "  <tbody>\n",
       "    <tr>\n",
       "      <th>0</th>\n",
       "      <td>3</td>\n",
       "      <td>260</td>\n",
       "      <td>classic</td>\n",
       "      <td>1439472355</td>\n",
       "    </tr>\n",
       "    <tr>\n",
       "      <th>1</th>\n",
       "      <td>3</td>\n",
       "      <td>260</td>\n",
       "      <td>sci-fi</td>\n",
       "      <td>1439472256</td>\n",
       "    </tr>\n",
       "    <tr>\n",
       "      <th>2</th>\n",
       "      <td>4</td>\n",
       "      <td>1732</td>\n",
       "      <td>dark comedy</td>\n",
       "      <td>1573943598</td>\n",
       "    </tr>\n",
       "    <tr>\n",
       "      <th>3</th>\n",
       "      <td>4</td>\n",
       "      <td>1732</td>\n",
       "      <td>great dialogue</td>\n",
       "      <td>1573943604</td>\n",
       "    </tr>\n",
       "    <tr>\n",
       "      <th>4</th>\n",
       "      <td>4</td>\n",
       "      <td>7569</td>\n",
       "      <td>so bad it's good</td>\n",
       "      <td>1573943455</td>\n",
       "    </tr>\n",
       "    <tr>\n",
       "      <th>...</th>\n",
       "      <td>...</td>\n",
       "      <td>...</td>\n",
       "      <td>...</td>\n",
       "      <td>...</td>\n",
       "    </tr>\n",
       "    <tr>\n",
       "      <th>1093355</th>\n",
       "      <td>162521</td>\n",
       "      <td>66934</td>\n",
       "      <td>Neil Patrick Harris</td>\n",
       "      <td>1427311611</td>\n",
       "    </tr>\n",
       "    <tr>\n",
       "      <th>1093356</th>\n",
       "      <td>162521</td>\n",
       "      <td>103341</td>\n",
       "      <td>cornetto trilogy</td>\n",
       "      <td>1427311259</td>\n",
       "    </tr>\n",
       "    <tr>\n",
       "      <th>1093357</th>\n",
       "      <td>162534</td>\n",
       "      <td>189169</td>\n",
       "      <td>comedy</td>\n",
       "      <td>1527518175</td>\n",
       "    </tr>\n",
       "    <tr>\n",
       "      <th>1093358</th>\n",
       "      <td>162534</td>\n",
       "      <td>189169</td>\n",
       "      <td>disabled</td>\n",
       "      <td>1527518181</td>\n",
       "    </tr>\n",
       "    <tr>\n",
       "      <th>1093359</th>\n",
       "      <td>162534</td>\n",
       "      <td>189169</td>\n",
       "      <td>robbery</td>\n",
       "      <td>1527518193</td>\n",
       "    </tr>\n",
       "  </tbody>\n",
       "</table>\n",
       "<p>1093360 rows × 4 columns</p>\n",
       "</div>"
      ],
      "text/plain": [
       "         userId  movieId                  tag   timestamp\n",
       "0             3      260              classic  1439472355\n",
       "1             3      260               sci-fi  1439472256\n",
       "2             4     1732          dark comedy  1573943598\n",
       "3             4     1732       great dialogue  1573943604\n",
       "4             4     7569     so bad it's good  1573943455\n",
       "...         ...      ...                  ...         ...\n",
       "1093355  162521    66934  Neil Patrick Harris  1427311611\n",
       "1093356  162521   103341     cornetto trilogy  1427311259\n",
       "1093357  162534   189169               comedy  1527518175\n",
       "1093358  162534   189169             disabled  1527518181\n",
       "1093359  162534   189169              robbery  1527518193\n",
       "\n",
       "[1093360 rows x 4 columns]"
      ]
     },
     "execution_count": 74,
     "metadata": {},
     "output_type": "execute_result"
    }
   ],
   "source": [
    "tags"
   ]
  },
  {
   "cell_type": "code",
   "execution_count": 75,
   "metadata": {},
   "outputs": [
    {
     "name": "stdout",
     "output_type": "stream",
     "text": [
      "Dataframe Info:\n",
      "<class 'pandas.core.frame.DataFrame'>\n",
      "RangeIndex: 1093360 entries, 0 to 1093359\n",
      "Data columns (total 4 columns):\n",
      " #   Column     Non-Null Count    Dtype \n",
      "---  ------     --------------    ----- \n",
      " 0   userId     1093360 non-null  int64 \n",
      " 1   movieId    1093360 non-null  int64 \n",
      " 2   tag        1093344 non-null  object\n",
      " 3   timestamp  1093360 non-null  int64 \n",
      "dtypes: int64(3), object(1)\n",
      "memory usage: 33.4+ MB\n",
      "None\n",
      "\n",
      "\n",
      "Columns with Null Values:\n",
      "userId        0\n",
      "movieId       0\n",
      "tag          16\n",
      "timestamp     0\n",
      "dtype: int64\n"
     ]
    }
   ],
   "source": [
    "df_inspect(tags)"
   ]
  },
  {
   "cell_type": "code",
   "execution_count": 76,
   "metadata": {},
   "outputs": [
    {
     "name": "stdout",
     "output_type": "stream",
     "text": [
      "<class 'pandas.core.frame.DataFrame'>\n",
      "RangeIndex: 10000038 entries, 0 to 10000037\n",
      "Data columns (total 4 columns):\n",
      " #   Column     Dtype  \n",
      "---  ------     -----  \n",
      " 0   userId     int64  \n",
      " 1   movieId    int64  \n",
      " 2   rating     float64\n",
      " 3   timestamp  int64  \n",
      "dtypes: float64(1), int64(3)\n",
      "memory usage: 305.2 MB\n",
      "\n",
      "\n",
      "<class 'pandas.core.frame.DataFrame'>\n",
      "RangeIndex: 5000019 entries, 0 to 5000018\n",
      "Data columns (total 2 columns):\n",
      " #   Column   Dtype\n",
      "---  ------   -----\n",
      " 0   userId   int64\n",
      " 1   movieId  int64\n",
      "dtypes: int64(2)\n",
      "memory usage: 76.3 MB\n"
     ]
    }
   ],
   "source": [
    "#Displays info about the columns whether they are numerical or not\n",
    "train.info()\n",
    "print(\"\\n\")\n",
    "test.info()"
   ]
  },
  {
   "cell_type": "code",
   "execution_count": 77,
   "metadata": {},
   "outputs": [
    {
     "data": {
      "text/plain": [
       "userId     0\n",
       "movieId    0\n",
       "dtype: int64"
      ]
     },
     "execution_count": 77,
     "metadata": {},
     "output_type": "execute_result"
    }
   ],
   "source": [
    "train.isnull().sum()\n",
    "test.isnull().sum()"
   ]
  },
  {
   "cell_type": "code",
   "execution_count": 78,
   "metadata": {},
   "outputs": [
    {
     "data": {
      "text/plain": [
       "(10000038, 4)"
      ]
     },
     "execution_count": 78,
     "metadata": {},
     "output_type": "execute_result"
    }
   ],
   "source": [
    "train.shape"
   ]
  },
  {
   "cell_type": "code",
   "execution_count": 79,
   "metadata": {},
   "outputs": [
    {
     "data": {
      "text/plain": [
       "(5000019, 2)"
      ]
     },
     "execution_count": 79,
     "metadata": {},
     "output_type": "execute_result"
    }
   ],
   "source": [
    "test.shape"
   ]
  },
  {
   "cell_type": "code",
   "execution_count": 39,
   "metadata": {},
   "outputs": [
    {
     "name": "stdout",
     "output_type": "stream",
     "text": [
      "unique users is; is 162541\n"
     ]
    }
   ],
   "source": [
    "unique_users = df_train['userId'].nunique()\n",
    "print(f'unique users is; is {unique_users}')"
   ]
  },
  {
   "cell_type": "code",
   "execution_count": 80,
   "metadata": {},
   "outputs": [],
   "source": [
    "N  = 100\n",
    "top_users = df_train['userId'].value_counts().nlargest(100).index\n",
    "\n"
   ]
  },
  {
   "cell_type": "markdown",
   "metadata": {},
   "source": [
    "<a id=\"four\"></a>\n",
    "## 4. Feature Engineering\n",
    "<a class=\"anchor\" id=\"1.1\"></a>\n",
    "<a href=#cont>Back to Table of Contents</a>\n",
    "\n",
    "---\n",
    "    \n",
    "| ⚡ Description: Feature engineering ⚡ |\n",
    "| :--------------------------- |\n",
    "| In this section you are required to: clean the dataset, and possibly create new features - as identified in the EDA phase. |\n",
    "\n",
    "---"
   ]
  },
  {
   "cell_type": "code",
   "execution_count": 42,
   "metadata": {},
   "outputs": [],
   "source": [
    "df_links['tmdbId'].fillna(0, inplace = True)"
   ]
  },
  {
   "cell_type": "code",
   "execution_count": 43,
   "metadata": {},
   "outputs": [
    {
     "name": "stdout",
     "output_type": "stream",
     "text": [
      "unique movies is; is 48213\n"
     ]
    }
   ],
   "source": [
    "unique_movies = df_train['movieId'].nunique()\n",
    "print(f'unique movies is; is {unique_movies}')"
   ]
  },
  {
   "cell_type": "code",
   "execution_count": 44,
   "metadata": {},
   "outputs": [],
   "source": [
    "train_movies_combo = df_train.merge(df_movies, on = 'movieId', how = 'left') "
   ]
  },
  {
   "cell_type": "code",
   "execution_count": 45,
   "metadata": {},
   "outputs": [
    {
     "data": {
      "text/html": [
       "<div>\n",
       "<style scoped>\n",
       "    .dataframe tbody tr th:only-of-type {\n",
       "        vertical-align: middle;\n",
       "    }\n",
       "\n",
       "    .dataframe tbody tr th {\n",
       "        vertical-align: top;\n",
       "    }\n",
       "\n",
       "    .dataframe thead th {\n",
       "        text-align: right;\n",
       "    }\n",
       "</style>\n",
       "<table border=\"1\" class=\"dataframe\">\n",
       "  <thead>\n",
       "    <tr style=\"text-align: right;\">\n",
       "      <th></th>\n",
       "      <th>userId</th>\n",
       "      <th>movieId</th>\n",
       "      <th>rating</th>\n",
       "      <th>timestamp</th>\n",
       "      <th>title</th>\n",
       "      <th>genres</th>\n",
       "    </tr>\n",
       "  </thead>\n",
       "  <tbody>\n",
       "    <tr>\n",
       "      <th>0</th>\n",
       "      <td>5163</td>\n",
       "      <td>57669</td>\n",
       "      <td>4.0</td>\n",
       "      <td>1518349992</td>\n",
       "      <td>In Bruges (2008)</td>\n",
       "      <td>Comedy|Crime|Drama|Thriller</td>\n",
       "    </tr>\n",
       "    <tr>\n",
       "      <th>1</th>\n",
       "      <td>106343</td>\n",
       "      <td>5</td>\n",
       "      <td>4.5</td>\n",
       "      <td>1206238739</td>\n",
       "      <td>Father of the Bride Part II (1995)</td>\n",
       "      <td>Comedy</td>\n",
       "    </tr>\n",
       "    <tr>\n",
       "      <th>2</th>\n",
       "      <td>146790</td>\n",
       "      <td>5459</td>\n",
       "      <td>5.0</td>\n",
       "      <td>1076215539</td>\n",
       "      <td>Men in Black II (a.k.a. MIIB) (a.k.a. MIB 2) (...</td>\n",
       "      <td>Action|Comedy|Sci-Fi</td>\n",
       "    </tr>\n",
       "    <tr>\n",
       "      <th>3</th>\n",
       "      <td>106362</td>\n",
       "      <td>32296</td>\n",
       "      <td>2.0</td>\n",
       "      <td>1423042565</td>\n",
       "      <td>Miss Congeniality 2: Armed and Fabulous (2005)</td>\n",
       "      <td>Adventure|Comedy|Crime</td>\n",
       "    </tr>\n",
       "    <tr>\n",
       "      <th>4</th>\n",
       "      <td>9041</td>\n",
       "      <td>366</td>\n",
       "      <td>3.0</td>\n",
       "      <td>833375837</td>\n",
       "      <td>Wes Craven's New Nightmare (Nightmare on Elm S...</td>\n",
       "      <td>Drama|Horror|Mystery|Thriller</td>\n",
       "    </tr>\n",
       "    <tr>\n",
       "      <th>...</th>\n",
       "      <td>...</td>\n",
       "      <td>...</td>\n",
       "      <td>...</td>\n",
       "      <td>...</td>\n",
       "      <td>...</td>\n",
       "      <td>...</td>\n",
       "    </tr>\n",
       "    <tr>\n",
       "      <th>10000033</th>\n",
       "      <td>136395</td>\n",
       "      <td>99114</td>\n",
       "      <td>5.0</td>\n",
       "      <td>1521235092</td>\n",
       "      <td>Django Unchained (2012)</td>\n",
       "      <td>Action|Drama|Western</td>\n",
       "    </tr>\n",
       "    <tr>\n",
       "      <th>10000034</th>\n",
       "      <td>140078</td>\n",
       "      <td>553</td>\n",
       "      <td>3.0</td>\n",
       "      <td>1002580977</td>\n",
       "      <td>Tombstone (1993)</td>\n",
       "      <td>Action|Drama|Western</td>\n",
       "    </tr>\n",
       "    <tr>\n",
       "      <th>10000035</th>\n",
       "      <td>154807</td>\n",
       "      <td>56782</td>\n",
       "      <td>4.0</td>\n",
       "      <td>1227674807</td>\n",
       "      <td>There Will Be Blood (2007)</td>\n",
       "      <td>Drama|Western</td>\n",
       "    </tr>\n",
       "    <tr>\n",
       "      <th>10000036</th>\n",
       "      <td>85805</td>\n",
       "      <td>327</td>\n",
       "      <td>4.0</td>\n",
       "      <td>1479921530</td>\n",
       "      <td>Tank Girl (1995)</td>\n",
       "      <td>Action|Comedy|Sci-Fi</td>\n",
       "    </tr>\n",
       "    <tr>\n",
       "      <th>10000037</th>\n",
       "      <td>139457</td>\n",
       "      <td>1009</td>\n",
       "      <td>4.0</td>\n",
       "      <td>858984862</td>\n",
       "      <td>Escape to Witch Mountain (1975)</td>\n",
       "      <td>Adventure|Children|Fantasy</td>\n",
       "    </tr>\n",
       "  </tbody>\n",
       "</table>\n",
       "<p>10000038 rows × 6 columns</p>\n",
       "</div>"
      ],
      "text/plain": [
       "          userId  movieId  rating   timestamp  \\\n",
       "0           5163    57669     4.0  1518349992   \n",
       "1         106343        5     4.5  1206238739   \n",
       "2         146790     5459     5.0  1076215539   \n",
       "3         106362    32296     2.0  1423042565   \n",
       "4           9041      366     3.0   833375837   \n",
       "...          ...      ...     ...         ...   \n",
       "10000033  136395    99114     5.0  1521235092   \n",
       "10000034  140078      553     3.0  1002580977   \n",
       "10000035  154807    56782     4.0  1227674807   \n",
       "10000036   85805      327     4.0  1479921530   \n",
       "10000037  139457     1009     4.0   858984862   \n",
       "\n",
       "                                                      title  \\\n",
       "0                                          In Bruges (2008)   \n",
       "1                        Father of the Bride Part II (1995)   \n",
       "2         Men in Black II (a.k.a. MIIB) (a.k.a. MIB 2) (...   \n",
       "3            Miss Congeniality 2: Armed and Fabulous (2005)   \n",
       "4         Wes Craven's New Nightmare (Nightmare on Elm S...   \n",
       "...                                                     ...   \n",
       "10000033                            Django Unchained (2012)   \n",
       "10000034                                   Tombstone (1993)   \n",
       "10000035                         There Will Be Blood (2007)   \n",
       "10000036                                   Tank Girl (1995)   \n",
       "10000037                    Escape to Witch Mountain (1975)   \n",
       "\n",
       "                                 genres  \n",
       "0           Comedy|Crime|Drama|Thriller  \n",
       "1                                Comedy  \n",
       "2                  Action|Comedy|Sci-Fi  \n",
       "3                Adventure|Comedy|Crime  \n",
       "4         Drama|Horror|Mystery|Thriller  \n",
       "...                                 ...  \n",
       "10000033           Action|Drama|Western  \n",
       "10000034           Action|Drama|Western  \n",
       "10000035                  Drama|Western  \n",
       "10000036           Action|Comedy|Sci-Fi  \n",
       "10000037     Adventure|Children|Fantasy  \n",
       "\n",
       "[10000038 rows x 6 columns]"
      ]
     },
     "execution_count": 45,
     "metadata": {},
     "output_type": "execute_result"
    }
   ],
   "source": [
    "train_movies_combo"
   ]
  },
  {
   "cell_type": "code",
   "execution_count": 46,
   "metadata": {},
   "outputs": [],
   "source": [
    "N  = 5\n",
    "top_movies = train_movies_combo['title'].value_counts().nlargest(5).index"
   ]
  },
  {
   "cell_type": "code",
   "execution_count": 47,
   "metadata": {},
   "outputs": [],
   "source": [
    "movie_frequencies = train_movies_combo['title'].value_counts()\n",
    "\n"
   ]
  },
  {
   "cell_type": "code",
   "execution_count": 48,
   "metadata": {},
   "outputs": [
    {
     "data": {
      "text/plain": [
       "Shawshank Redemption, The (1994)                                 32831\n",
       "Forrest Gump (1994)                                              32383\n",
       "Pulp Fiction (1994)                                              31697\n",
       "Silence of the Lambs, The (1991)                                 29444\n",
       "Matrix, The (1999)                                               29014\n",
       "                                                                 ...  \n",
       "The Green, Green Grass of Home (1982)                                1\n",
       "Bella Mafia (1997)                                                   1\n",
       "Sniper (1932)                                                        1\n",
       "Shinobi No Mono 3: Resurrection (Shin shinobi no mono) (1963)        1\n",
       "Elia Kazan: A Director's Journey (1995)                              1\n",
       "Name: title, Length: 48151, dtype: int64"
      ]
     },
     "execution_count": 48,
     "metadata": {},
     "output_type": "execute_result"
    }
   ],
   "source": [
    "movie_frequencies"
   ]
  },
  {
   "cell_type": "code",
   "execution_count": 49,
   "metadata": {},
   "outputs": [
    {
     "data": {
      "image/png": "[encoded data removed]",
      "text/plain": [
       "<Figure size 1500x800 with 1 Axes>"
      ]
     },
     "metadata": {},
     "output_type": "display_data"
    }
   ],
   "source": [
    "import matplotlib.pyplot as plt\n",
    "import seaborn as sns\n",
    "\n",
    "# Assuming train_movies_combo is your DataFrame\n",
    "movie_frequencies = train_movies_combo['title'].value_counts()\n",
    "\n",
    "# Sort movies based on frequency in descending order\n",
    "sorted_movies = movie_frequencies.index\n",
    "\n",
    "# Select only the top movies based on your criteria (top_movies)\n",
    "top_movies = sorted_movies[:N]  # Replace N with the desired number of top movies\n",
    "\n",
    "# Create the histogram with the sorted movie order\n",
    "plt.figure(figsize=(15, 8))\n",
    "sns.histplot(train_movies_combo[train_movies_combo['title'].isin(top_movies)], bins=50, x='title', hue='title', multiple='stack')\n",
    "plt.title('Distribution of movie frequency')\n",
    "plt.xlabel('title')\n",
    "plt.xticks(rotation=90)  # Rotate x-axis labels for better readability\n",
    "plt.show()\n"
   ]
  },
  {
   "cell_type": "markdown",
   "metadata": {},
   "source": [
    "**MovieLens Rating Distribution**"
   ]
  },
  {
   "cell_type": "code",
   "execution_count": 81,
   "metadata": {},
   "outputs": [
    {
     "data": {
      "image/png": "[encoded data removed]",
      "text/plain": [
       "<Figure size 1500x1500 with 1 Axes>"
      ]
     },
     "metadata": {},
     "output_type": "display_data"
    }
   ],
   "source": [
    "# Merge train with movies to join movie titles and ratings\n",
    "ratings = train.merge(movies, on='movieId', how='inner')\n",
    "ratings.drop('timestamp', axis=1, inplace=True)\n",
    "\n",
    "# Count how many ratings are in each category (1 star, 2 star, ect)\n",
    "grouped = pd.DataFrame(ratings.groupby(['rating'])['title'].count())\n",
    "grouped.rename(columns={'title':'rating_count'}, inplace=True)\n",
    "\n",
    "# Creating plots\n",
    "fig = plt.figure(figsize=(15,15))\n",
    "ax = fig.add_subplot(122)\n",
    "\n",
    "# Create colour palette\n",
    "labels = ['0.5 Star', '1 Stars', '1.5 Stars', '2 Stars', '2.5 Stars', '3 Star', '3.5 Stars', '4 Stars', '4.5 Stars', '5 Stars']\n",
    "theme = plt.get_cmap('Reds')\n",
    "ax.set_prop_cycle(\"color\", [theme(1. * i / len(labels))\n",
    "                                 for i in range(len(labels))])\n",
    "sns.set(font_scale=1.25)\n",
    "\n",
    "# Create pie chart\n",
    "pie = ax.pie(grouped['rating_count'],\n",
    "                 autopct='%1.1f%%',\n",
    "                 shadow=True,\n",
    "                 startangle=20,\n",
    "                 pctdistance=1.115,\n",
    "                 explode=(0.1, 0.1, 0.1, 0.1, 0.1, 0.1, 0.1, 0.1, 0.1, 0.1))\n",
    "\n",
    "# Turn pie chart into a donut chart\n",
    "centre_circle = plt.Circle((0,0),0.70,fc='white')\n",
    "fig = plt.gcf()\n",
    "fig.gca().add_artist(centre_circle)\n",
    "\n",
    "# Display donut plot with legend\n",
    "plt.legend(pie[0], labels, loc=\"lower left\")\n",
    "ax.set_title('Rating distribution for the MovieLens database\\n', fontsize=10)\n",
    "plt.tight_layout()\n",
    "plt.show()"
   ]
  },
  {
   "cell_type": "markdown",
   "metadata": {},
   "source": [
    "**Observations:**\n",
    "\n",
    "4 Star ratings make up the largest portion of ratings in the MovieLens dataset, accounting for 26.5% of the overall ratings.\n",
    "5 star ratings make up 14.5% of the overall ratings (3rd largest portion)\n",
    "0.5 star ratings account for the smallest portion of the ratings at a mere 1.6%\n",
    "Ratings between 2 and 0.5 stars account for 12.9%"
   ]
  },
  {
   "cell_type": "markdown",
   "metadata": {},
   "source": [
    "**Distribution of average ratings**\n",
    "\n",
    "Let's take a look at the average rating of each movie.\n",
    "\n",
    "These stats could be misleading, though: A movie can make it to the top of the list even if only a single user has given it five stars. Normally, a movie that's really a good one gets a higher rating by a large number of users. Keeping this in mind we will record the number of ratings each film has received."
   ]
  },
  {
   "cell_type": "code",
   "execution_count": 83,
   "metadata": {},
   "outputs": [
    {
     "data": {
      "image/png": "[encoded data removed]",
      "text/plain": [
       "<Figure size 2000x500 with 2 Axes>"
      ]
     },
     "metadata": {},
     "output_type": "display_data"
    }
   ],
   "source": [
    "# Determine the average rating and number of ratings for each movie\n",
    "ratings_mean_count = pd.DataFrame(ratings.groupby(['title'])[['rating']].mean())\n",
    "ratings_mean_count['rating_counts'] = pd.DataFrame(ratings.groupby(['title'])['rating'].count())\n",
    "ratings_mean_count['popularity'] = pd.DataFrame(ratings.groupby(['title'])['rating'].count()*ratings.groupby(['title'])['rating'].mean())\n",
    "\n",
    "# Create a plot of the number of ratings\n",
    "f, axarr = plt.subplots(1,2, figsize=(20,5))\n",
    "axarr[0].hist(ratings_mean_count['rating_counts'], bins=10, color='#bb3d23')\n",
    "axarr[0].set_title('Number of ratings\\n', fontsize=25)\n",
    "\n",
    "# Create a plot showing the average ratings distribution\n",
    "axarr[1].hist(ratings_mean_count['rating'], bins=10, color='#bb3d23')\n",
    "axarr[1].set_title('Average ratings\\n', fontsize=25)\n",
    "\n",
    "# Display both plots\n",
    "plt.tight_layout()\n",
    "plt.show()"
   ]
  },
  {
   "cell_type": "markdown",
   "metadata": {},
   "source": [
    "**Observations:**\n",
    "\n",
    " Most of the movies have received less than 2500 ratings. While the number of movies having more than 5000 ratings is very low.\n",
    "\n",
    "The ratings follow a normal distribution that is slightly skewed to the right. It seems like users are generally generous with their ratings.\n",
    "\n",
    "The mean rating is around 3"
   ]
  },
  {
   "cell_type": "markdown",
   "metadata": {},
   "source": [
    "**Year Released**"
   ]
  },
  {
   "cell_type": "code",
   "execution_count": 82,
   "metadata": {},
   "outputs": [
    {
     "data": {
      "image/png": "[encoded data removed]",
      "text/plain": [
       "<Figure size 1000x500 with 1 Axes>"
      ]
     },
     "metadata": {},
     "output_type": "display_data"
    }
   ],
   "source": [
    "# Extract the release year fron the movie titles\n",
    "ratings['release_year'] = ratings.title.map(lambda x: re.findall('\\d\\d\\d\\d', x))\n",
    "ratings.release_year = ratings.release_year.apply(lambda x: np.nan if not x else int(x[-1]))\n",
    "years =  pd.DataFrame(ratings.groupby(['release_year'])['title'].count())\n",
    "years.rename(columns={'title':'movies released'}, inplace=True)\n",
    "\n",
    "# Plot the number of movies released per year\n",
    "plt.figure(figsize=(10,5))\n",
    "plot = sns.lineplot(data=years, dashes=False, legend=False, palette='Reds_r')\n",
    "\n",
    "# Add figure labels\n",
    "plt.xlabel('Years', fontsize=15)\n",
    "plt.ylabel('Number of movies released', fontsize=15)\n",
    "plt.title('Movies released per year\\n', fontsize=20)\n",
    "\n",
    "plt.show()"
   ]
  },
  {
   "cell_type": "markdown",
   "metadata": {},
   "source": [
    "**Observations:**\n",
    "\n",
    "This dataset contains movie ratings and movie specific data dating back 50 years.\n",
    "\n",
    "There was a huge spike in movie production between 1990 and 2000 which has slowed down significantly in the last few years."
   ]
  },
  {
   "cell_type": "markdown",
   "metadata": {},
   "source": [
    "**Greatest hits: most popular movies**\n",
    "\n",
    "Popularity will be determined as the product of the average rating and the number of ratings a film has received."
   ]
  },
  {
   "cell_type": "markdown",
   "metadata": {},
   "source": [
    "# Extract and display the 10 most popular films in the dataset\n",
    "ratings_mean_count = ratings_mean_count.sort_values(by='popularity', ascending=False).head(15)\n",
    "ratings_mean_count.head(15)"
   ]
  },
  {
   "cell_type": "markdown",
   "metadata": {},
   "source": [
    "from IPython.display import Image\n",
    "\n",
    "Image(\"filename=Movies.jpeg\")"
   ]
  },
  {
   "cell_type": "markdown",
   "metadata": {},
   "source": [
    "**Observations:**\n",
    "\n",
    "We see some really good movies like the Martrix, Star Wars and the Lord of the Rings in the top 15.\n",
    "\n",
    "The above list supports our point that good movies normally receive both more and higher ratings\n",
    "\n",
    " An interesting thing to note is that all the movies in the top 10 are older, with none of the movies more recent than 1999.\n",
    "\n",
    "This just could be because these movies have been around longer and have been rated more as a result"
   ]
  },
  {
   "cell_type": "markdown",
   "metadata": {},
   "source": [
    "**Rating distribution: Shawshank Redemption**\n",
    "\n",
    "Let's take a closer look at how the ratings for the most popular movie are distributed"
   ]
  },
  {
   "cell_type": "code",
   "execution_count": null,
   "metadata": {},
   "outputs": [],
   "source": [
    "# Extract Shawshank Redemption ratings\n",
    "top = ratings[ratings['title'] == 'Shawshank Redemption, The (1994)'].copy()\n",
    "\n",
    "# Group all 2 star and lower ratings together\n",
    "top.loc[(top.rating == 0.5) | (top.rating == 1) | (top.rating == 1.5), 'rating'] = 2\n",
    "\n",
    "# Count how many ratings are in each category: 1 star, 2 star, etc.\n",
    "grouped = pd.DataFrame(top.groupby('rating')['title'].count())\n",
    "grouped.rename(columns={'title': 'rating_count'}, inplace=True)\n",
    "\n",
    "# Create the figure\n",
    "fig, ax = plt.subplots(figsize=(10, 8))\n",
    "\n",
    "# Create the color palette\n",
    "labels = ['2 Stars and less', '2.5 Stars', '3 Stars', '3.5 Stars', '4 Stars', '4.5 Stars', '5 Stars']\n",
    "theme = plt.get_cmap('Reds')\n",
    "ax.set_prop_cycle(\"color\", [theme(1. * i / len(labels)) for i in range(len(labels))])\n",
    "sns.set(font_scale=1.25)\n",
    "\n",
    "# Create the pie chart\n",
    "explode = (0.1,) * len(grouped)\n",
    "pie = ax.pie(grouped['rating_count'],\n",
    "             autopct='%1.1f%%',\n",
    "             shadow=True,\n",
    "             startangle=10,\n",
    "             pctdistance=1.115,\n",
    "             explode=explode)\n",
    "\n",
    "# Turn the pie chart into a donut chart\n",
    "centre_circle = plt.Circle((0, 0), 0.30, fc='white')\n",
    "fig.gca().add_artist(centre_circle)\n",
    "\n",
    "# Display the donut chart with a legend\n",
    "ax.set_title('Rating distribution for the Shawshank Redemption\\n', fontsize=15)\n",
    "plt.legend(pie[0], labels, loc=\"lower left\")\n",
    "plt.tight_layout()\n",
    "plt.show()"
   ]
  },
  {
   "cell_type": "markdown",
   "metadata": {},
   "source": [
    "**Observations:**\n",
    "\n",
    "48.9% of the ratings received were 5 stars\n",
    "\n",
    "An impressive 86.4% of the ratings were between 5 and 4 stars\n",
    "\n",
    "Only 2% of the ratings received were 2 stars or less\n",
    "\n",
    "This was clearly a fan favourite"
   ]
  },
  {
   "cell_type": "markdown",
   "metadata": {},
   "source": []
  },
  {
   "cell_type": "markdown",
   "metadata": {},
   "source": [
    "**Movie genres**\n",
    "\n",
    "How many different genres are represented in the dataset and how are they distributed?"
   ]
  },
  {
   "cell_type": "code",
   "execution_count": null,
   "metadata": {},
   "outputs": [],
   "source": [
    "movies_genres = pd.DataFrame(movies[['movieId', 'genres']], columns=['movieId', 'genres'])\n",
    "\n",
    "# Create expanded dataframe where each movie-genre combination is in a separate row\n",
    "movies_genres = pd.DataFrame([(tup.movieId, d) for tup in movies_genres.itertuples() for d in tup.genres],\n",
    "                             columns=['movieId', 'genres'])\n",
    "\n",
    "movies_genres.head()"
   ]
  },
  {
   "cell_type": "code",
   "execution_count": null,
   "metadata": {},
   "outputs": [],
   "source": [
    "# Plot the genres from most common to least common\n",
    "plot = plt.figure(figsize=(15, 10))\n",
    "plt.title('Most common genres\\n', fontsize=20)\n",
    "sns.countplot(y=\"genres\", data=movies_genres,\n",
    "              order=movies_genres['genres'].value_counts(ascending=False).index,\n",
    "              palette='icefire_r')\n",
    "plt.show()"
   ]
  },
  {
   "cell_type": "markdown",
   "metadata": {},
   "source": [
    "**Observations:**\n",
    "\n",
    "There are 19 unique genres\n",
    "\n",
    "5062 films have no genre listed which accounts for 5% of the films in the dataset\n",
    "\n",
    "Majority of the films fall into the drama, comedy and thriller genres.\n",
    "\n",
    "Dramas account for 23%\n",
    "\n",
    "Comedies makes up 15% of the films\n",
    "\n",
    "8% of the films fall into the thriller genre\n",
    "\n",
    "The Imax genre accounts for the smallest portion of the films in the dataset at less than 1% since this is a relatively new genre and the dataset goes back 50 years"
   ]
  },
  {
   "cell_type": "markdown",
   "metadata": {},
   "source": [
    "7.1.3. How many movies were released in each year (1990-2019)?"
   ]
  },
  {
   "cell_type": "code",
   "execution_count": null,
   "metadata": {},
   "outputs": [],
   "source": [
    "#Using regular expressions to find a year stored between parentheses\n",
    "#We specify the parantheses so we don’t conflict with movies that have years in their titles\n",
    "movies['year'] = movies['title'].str.extract(\"(\\(\\d\\d\\d\\d\\))\",expand=False)\n",
    "#Removing the parentheses\n",
    "movies['year'] = movies['year'].str.extract(\"(\\d\\d\\d\\d)\",expand=False)\n",
    "#Removing the years from the ‘title’ column\n",
    "movies['title'] = movies['title'].str.replace(\"(\\(\\d\\d\\d\\d\\))\", \"\")\n",
    "#Applying the strip function to get rid of any ending whitespace characters that may have appeared\n",
    "movies['title'] = movies['title'].apply(lambda x: x.strip())"
   ]
  },
  {
   "cell_type": "code",
   "execution_count": null,
   "metadata": {},
   "outputs": [],
   "source": [
    "pd.to_datetime(movies.year, format='%Y')"
   ]
  },
  {
   "cell_type": "code",
   "execution_count": null,
   "metadata": {},
   "outputs": [],
   "source": [
    "year_df = pd.DataFrame(movies.groupby('year')['title'].count()).reset_index()\n",
    "year_df.rename(columns={'title': 'num_of_titles'}, inplace=True)\n",
    "year_df = year_df.sort_values(by='year', ascending=False)\n",
    "year_df"
   ]
  },
  {
   "cell_type": "code",
   "execution_count": null,
   "metadata": {},
   "outputs": [],
   "source": [
    "# plot the highest rated movies\n",
    "f, ax = plt.subplots(figsize=(15, 6))\n",
    "sns.barplot(data=year_df[0:30],y='num_of_titles',x='year',palette = sns.color_palette('icefire_r', 30))\n",
    "ax.set(ylabel=\"Number of Movies\",\n",
    "       xlabel=\"Year\")\n",
    "ax.title.set_text('Amount of movies released per year')\n",
    "sns.despine(left=True, bottom=True)"
   ]
  },
  {
   "cell_type": "markdown",
   "metadata": {},
   "source": [
    "***Observations***\n",
    "\n",
    "We observed a gradual incline in the number of movies released in 2 decades.\n",
    "\n",
    "There are a few reasons for the increase in the number of movies released between 1990 and 2019. One major reason is the advancement of technology, which has made it cheaper and easier to produce and distribute films. Additionally, the growth of streaming services like Netflix and Amazon Prime has created a larger market for independent and niche films. Additionally, globalization and the increasing demand for entertainment in developing countries also played a role in the increase of movie production. Finally, the increasing popularity of franchises and sequels in Hollywood also contributed to the increase in the number of films released."
   ]
  },
  {
   "cell_type": "markdown",
   "metadata": {},
   "source": [
    "**Trends in genre popularity**\n",
    "\n",
    "The following figure shows the number of ratings movies from each genre have received over the last 50 years."
   ]
  },
  {
   "cell_type": "code",
   "execution_count": null,
   "metadata": {},
   "outputs": [],
   "source": [
    "def most_watched(input_df):\n",
    "    \"\"\"\"\n",
    "    This function creates a plot showing the popularity of each genre\n",
    "    over the last 50 years.\n",
    "\n",
    "    Input: input_df\n",
    "           datatype: DataFrame\n",
    "\n",
    "    Output: None\n",
    "\n",
    "    \"\"\"\n",
    "    # Create a copy of the input dataframe and merge it to the movies dataframe\n",
    "    df = input_df.copy()\n",
    "    df = df.merge(movies, on='movieId', how='left')\n",
    "\n",
    "    # Create an empty dataframe\n",
    "    b = pd.DataFrame()\n",
    "\n",
    "    # Convert the 'genres' column to string format\n",
    "    df['genres'] = df['genres'].apply(lambda x: str(x))\n",
    "\n",
    "    # Extract the timestamps and genres\n",
    "    timestamps = [timestamp for timestamp in df.timestamp]\n",
    "    all_genres = set(','.join([genres.replace('|', ',') for genres in df.genres]).split(','))\n",
    "\n",
    "    # Get the number of ratings for each genre for each year since 1970\n",
    "    for index, genre in enumerate(all_genres):\n",
    "        a = pd.Series([int((timestamps[i] / 31536000) + 1970) for i, x in enumerate(df.genres) if genre in x])\n",
    "        a = a.value_counts()\n",
    "        b = pd.concat([b, pd.DataFrame({genre: a})], axis=1)\n",
    "\n",
    "    # Plot the trends for each genre on the same line graph\n",
    "    plt.figure(figsize=(10, 10))\n",
    "    plot = sns.lineplot(data=b, dashes=False)\n",
    "\n",
    "    # Add plot labels\n",
    "    plt.title('Trends in genre popularity', fontsize=20)\n",
    "    plt.xlabel('Years', fontsize=15)\n",
    "    plt.ylabel('Number of ratings', fontsize=15)\n",
    "\n",
    "    plt.show()\n",
    "\n",
    "# Assuming you have defined the 'movies' DataFrame and 'train' DataFrame\n",
    "most_watched(train)\n"
   ]
  },
  {
   "cell_type": "markdown",
   "metadata": {},
   "source": [
    "**Observations:**\n",
    "\n",
    "We see a similar trend for most genres with a huge spike in 2015, this could be because of an increase in users and/or an increase in the number of movies released.\n",
    "\n",
    "We also observe a sharp spike in 1996 in the number of movies rated in each genre followed by a huge dip in the following two years...Have to find the why.\n",
    "\n",
    "It is also worth noting that the count of movie ratings has gone down across the boards in the last 5 years"
   ]
  },
  {
   "cell_type": "code",
   "execution_count": null,
   "metadata": {},
   "outputs": [],
   "source": [
    "**Plot keywords**\n",
    "\n",
    "Lets have a look at the most frequently occuring plot keywords in the movielens dataset"
   ]
  },
  {
   "cell_type": "code",
   "execution_count": null,
   "metadata": {},
   "outputs": [],
   "source": [
    "#First lets create a corpus of all our plot keywords\n",
    "\n",
    "plot_words = []\n",
    "\n",
    "# Converting each keyword to lowercase and append them to our corpus\n",
    "for keywords in imdb_data[\"plot_keywords\"]:\n",
    "    if isinstance(keywords, list):\n",
    "        for word in keywords:\n",
    "            cleaned_word = str(word).lower()  # Convert the keyword to lowercase\n",
    "            plot_words.append(cleaned_word)\n",
    "\n",
    "# Converting our list to a string\n",
    "plot_words = \" \".join(plot_words)\n"
   ]
  },
  {
   "cell_type": "code",
   "execution_count": null,
   "metadata": {},
   "outputs": [],
   "source": [
    "#Creating a list of our own stop words\n",
    "plot_stopwords = ['character', 'title', 'reference', 'name', 'in', 'based', 'directed'] + list(STOPWORDS)\n",
    "\n",
    "#Creating our word cloud\n",
    "title_wordcloud = WordCloud(stopwords=plot_stopwords, background_color='black',\n",
    "                            max_words=100, height=2000, width=4000).generate(plot_words)\n",
    "\n",
    "# Plot the wordcloud\n",
    "plt.figure(figsize=(16,8))\n",
    "plt.imshow(title_wordcloud)\n",
    "plt.title(\"Top 100 Most Common Plot Keywords\", fontsize=30)\n",
    "plt.axis('off')\n",
    "plt.show()\n"
   ]
  },
  {
   "cell_type": "markdown",
   "metadata": {},
   "source": [
    "**Observations:**\n",
    "\n",
    "Words that stand out occur more frequently in the dataset.\n",
    "\n",
    "One of the words that stands out is F-rated which is a feminist classification system designed to highlight films that are written, directed or starring women\n",
    "\n",
    "We see a few comedy related keywords like 'Comedy', 'stand up special', 'stand up comedy'\n",
    "\n",
    "Documentary, biography and conspiracy are popular keywords.\n",
    "\n",
    "Keywords like 'Seductive', 'hot', 'sexy', 'sex scene', ect are all over the wordcloud, this is because most films, regardless of the genre seem to have some element of sex appeal."
   ]
  },
  {
   "cell_type": "markdown",
   "metadata": {},
   "source": [
    "**Directors**\n",
    "\n",
    "A film director controls a film's artistic and dramatic aspects and visualizes the screenplay while guiding the technical crew and actors in the fulfilment of that vision. The director has a key role in choosing the cast members, production design and all the creative aspects of filmmaking.\n",
    "\n",
    "Let's have a closer look at the directors that appear frequently in our dataset. They must be doing something right."
   ]
  },
  {
   "cell_type": "code",
   "execution_count": null,
   "metadata": {},
   "outputs": [],
   "source": [
    "# Generate a WordCloud using the movie directors\n",
    "\n",
    "# Concatenate all the directors' names into a single string\n",
    "directors_text = ' '.join(imdb_data['director'].dropna())\n",
    "\n",
    "# Create a WordCloud object\n",
    "wordcloud = WordCloud(width=800, height=400, background_color='black').generate(directors_text)\n",
    "\n",
    "# Plot the WordCloud\n",
    "plt.figure(figsize=(20, 8))\n",
    "plt.imshow(wordcloud, interpolation='bilinear')\n",
    "plt.axis('off')\n",
    "plt.title('Movie Directors\\n', fontsize=25)\n",
    "plt.show()\n"
   ]
  },
  {
   "cell_type": "markdown",
   "metadata": {},
   "source": [
    "**Observations:**\n",
    "\n",
    "Our intuition was right, immediately we see some big names in the film industry jumping out at us\n",
    "\n",
    "Stephen King and Shakespeare? Well.. It's more likely that these films were based on their work\n",
    "\n",
    "Woody Allen is an American director, writer, actor, and comedian whose career spans more than six decades and multiple Academy Award-winning movies\n",
    "\n",
    "Tyler Perry has directed some amazing films like Acrimony and the Madea films. He now has his own motion picture studio, 'Tyler Perry Studios'\n",
    "\n",
    "Luc Paul Maurice Besson is a French film director, screenwriter, and producer. He directed or produced the films Subway, The Big Blue, and La Femme Nikita. Besson is associated with the Cinéma du look film movement"
   ]
  },
  {
   "cell_type": "markdown",
   "metadata": {},
   "source": [
    "**Actors**\n",
    "\n",
    "I'm sure we all have certain actors we feel can do no wrong and we just love watching. The film cast will definitely have an influence on how much you enjoy or how highly you rate a movie. I for one love everything Taraji P. Henson touches."
   ]
  },
  {
   "cell_type": "code",
   "execution_count": null,
   "metadata": {},
   "outputs": [],
   "source": [
    "#First lets create a corpus of all our actors\n",
    "\n",
    "actor_corpus = []\n",
    "\n",
    "#We go through all our actors in the df_imdb column and if it isnt a None value, we convert it to lowercase and append it to\n",
    "#our corpus\n",
    "for title_cast in imdb_data[\"title_cast\"]:\n",
    "    if title_cast is not None:\n",
    "        for cast in title_cast:\n",
    "            actor_corpus.append(re.sub(\"\\s+\" , \"\", cast).lower())\n",
    "\n",
    "#Converting our list to a string\n",
    "actor_corpus = \" \".join(actor_corpus)\n",
    "\n",
    "#These are the stopwords we don't want to include in our word cloud\n",
    "actor_stopwords = ['none', ' none', 'none ', 'nan', ' nan', 'nan ', 'j', ' j', 'j ', 'jean', ' jean', 'jean ', 'seefullsummary',\\\n",
    "                ' seefullsummary', 'seefullsummary '] + list(STOPWORDS)\n",
    "\n",
    "\n",
    "#Creating our word cloud\n",
    "title_wordcloud = WordCloud(stopwords=actor_stopwords, background_color='black', max_words=100,\n",
    "                            height=2000, width=4000).generate(actor_corpus)\n",
    "\n",
    "# Plot the wordcloud\n",
    "plt.figure(figsize=(16,8))\n",
    "plt.imshow(title_wordcloud)\n",
    "plt.title(\"Top 100 Most Common Cast\", fontsize=30)\n",
    "plt.axis('off')\n",
    "plt.show()\n"
   ]
  },
  {
   "cell_type": "markdown",
   "metadata": {},
   "source": [
    "**Observations:**\n",
    "\n",
    "Tom Hanks: An American actor and filmmaker. Known for both his comedic and dramatic roles, Hanks is one of the most popular and recognizable film stars worldwide, and is widely regarded as an American cultural icon.\n",
    "\n",
    "Ben Stiller: Throughout his career he has written, starred in, directed, or produced more than 50 films including The Secret Life of Walter Mitty, Zoolander, The Cable Guy and There's Something About Mary.\n",
    "\n",
    "Eddie Murphy and Chris Rock are both successful comedians turned actors who have starred in numerous films throughout their careers"
   ]
  },
  {
   "cell_type": "markdown",
   "metadata": {},
   "source": [
    "<a id=\"five\"></a>\n",
    "## 5. Modelling\n",
    "<a class=\"anchor\" id=\"1.1\"></a>\n",
    "<a href=#cont>Back to Table of Contents</a>\n",
    "\n",
    "---\n",
    "    \n",
    "| ⚡ Description: Modelling ⚡ |\n",
    "| :--------------------------- |\n",
    "| In this section, you are required to create one or more regression models that are able to accurately predict the thee hour load shortfall. |\n",
    "\n",
    "---"
   ]
  },
  {
   "cell_type": "markdown",
   "metadata": {},
   "source": [
    "<a id=\"six\"></a>\n",
    "## 6. Model Performance\n",
    "<a class=\"anchor\" id=\"1.1\"></a>\n",
    "<a href=#cont>Back to Table of Contents</a>\n",
    "\n",
    "---\n",
    "    \n",
    "| ⚡ Description: Model performance ⚡ |\n",
    "| :--------------------------- |\n",
    "| In this section you are required to compare the relative performance of the various trained ML models on a holdout dataset and comment on what model is the best and why. |\n",
    "\n",
    "---"
   ]
  },
  {
   "cell_type": "markdown",
   "metadata": {},
   "source": [
    "<a id=\"seven\"></a>\n",
    "## 7. Model Explanations\n",
    "<a class=\"anchor\" id=\"1.1\"></a>\n",
    "<a href=#cont>Back to Table of Contents</a>\n",
    "\n",
    "---\n",
    "    \n",
    "| ⚡ Description: Model explanation ⚡ |\n",
    "| :--------------------------- |\n",
    "| In this section, you are required to discuss how the best performing model works in a simple way so that both technical and non-technical stakeholders can grasp the intuition behind the model's inner workings. |\n",
    "\n",
    "---"
   ]
  }
 ],
 "metadata": {
  "kernelspec": {
   "display_name": "Python 3",
   "language": "python",
   "name": "python3"
  },
  "language_info": {
   "codemirror_mode": {
    "name": "ipython",
    "version": 3
   },
   "file_extension": ".py",
   "mimetype": "text/x-python",
   "name": "python",
   "nbconvert_exporter": "python",
   "pygments_lexer": "ipython3",
   "version": "3.11.4"
  }
 },
 "nbformat": 4,
 "nbformat_minor": 2
}
